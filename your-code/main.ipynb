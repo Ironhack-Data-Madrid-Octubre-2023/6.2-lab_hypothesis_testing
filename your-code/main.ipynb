{
 "cells": [
  {
   "cell_type": "markdown",
   "metadata": {},
   "source": [
    "# Before your start:\n",
    "- Read the README.md file\n",
    "- Comment as much as you can and use the resources (README.md file)\n",
    "- Happy learning!"
   ]
  },
  {
   "cell_type": "code",
   "execution_count": 2,
   "metadata": {},
   "outputs": [],
   "source": [
    "# import numpy and pandas\n",
    "import pandas as pd\n",
    "import numpy as np"
   ]
  },
  {
   "cell_type": "markdown",
   "metadata": {},
   "source": [
    "# Challenge 1 - Exploring the Data\n",
    "\n",
    "In this challenge, we will examine all salaries of employees of the City of Chicago. We will start by loading the dataset and examining its contents"
   ]
  },
  {
   "cell_type": "code",
   "execution_count": 3,
   "metadata": {},
   "outputs": [
    {
     "data": {
      "text/html": [
       "<div>\n",
       "<style scoped>\n",
       "    .dataframe tbody tr th:only-of-type {\n",
       "        vertical-align: middle;\n",
       "    }\n",
       "\n",
       "    .dataframe tbody tr th {\n",
       "        vertical-align: top;\n",
       "    }\n",
       "\n",
       "    .dataframe thead th {\n",
       "        text-align: right;\n",
       "    }\n",
       "</style>\n",
       "<table border=\"1\" class=\"dataframe\">\n",
       "  <thead>\n",
       "    <tr style=\"text-align: right;\">\n",
       "      <th></th>\n",
       "      <th>Name</th>\n",
       "      <th>Job Titles</th>\n",
       "      <th>Department</th>\n",
       "      <th>Full or Part-Time</th>\n",
       "      <th>Salary or Hourly</th>\n",
       "      <th>Typical Hours</th>\n",
       "      <th>Annual Salary</th>\n",
       "      <th>Hourly Rate</th>\n",
       "    </tr>\n",
       "  </thead>\n",
       "  <tbody>\n",
       "    <tr>\n",
       "      <th>0</th>\n",
       "      <td>AARON,  JEFFERY M</td>\n",
       "      <td>SERGEANT</td>\n",
       "      <td>POLICE</td>\n",
       "      <td>F</td>\n",
       "      <td>Salary</td>\n",
       "      <td>NaN</td>\n",
       "      <td>101442.0</td>\n",
       "      <td>NaN</td>\n",
       "    </tr>\n",
       "    <tr>\n",
       "      <th>1</th>\n",
       "      <td>AARON,  KARINA</td>\n",
       "      <td>POLICE OFFICER (ASSIGNED AS DETECTIVE)</td>\n",
       "      <td>POLICE</td>\n",
       "      <td>F</td>\n",
       "      <td>Salary</td>\n",
       "      <td>NaN</td>\n",
       "      <td>94122.0</td>\n",
       "      <td>NaN</td>\n",
       "    </tr>\n",
       "    <tr>\n",
       "      <th>2</th>\n",
       "      <td>AARON,  KIMBERLEI R</td>\n",
       "      <td>CHIEF CONTRACT EXPEDITER</td>\n",
       "      <td>GENERAL SERVICES</td>\n",
       "      <td>F</td>\n",
       "      <td>Salary</td>\n",
       "      <td>NaN</td>\n",
       "      <td>101592.0</td>\n",
       "      <td>NaN</td>\n",
       "    </tr>\n",
       "    <tr>\n",
       "      <th>3</th>\n",
       "      <td>ABAD JR,  VICENTE M</td>\n",
       "      <td>CIVIL ENGINEER IV</td>\n",
       "      <td>WATER MGMNT</td>\n",
       "      <td>F</td>\n",
       "      <td>Salary</td>\n",
       "      <td>NaN</td>\n",
       "      <td>110064.0</td>\n",
       "      <td>NaN</td>\n",
       "    </tr>\n",
       "    <tr>\n",
       "      <th>4</th>\n",
       "      <td>ABASCAL,  REECE E</td>\n",
       "      <td>TRAFFIC CONTROL AIDE-HOURLY</td>\n",
       "      <td>OEMC</td>\n",
       "      <td>P</td>\n",
       "      <td>Hourly</td>\n",
       "      <td>20.0</td>\n",
       "      <td>NaN</td>\n",
       "      <td>19.86</td>\n",
       "    </tr>\n",
       "  </tbody>\n",
       "</table>\n",
       "</div>"
      ],
      "text/plain": [
       "                  Name                              Job Titles  \\\n",
       "0    AARON,  JEFFERY M                                SERGEANT   \n",
       "1      AARON,  KARINA   POLICE OFFICER (ASSIGNED AS DETECTIVE)   \n",
       "2  AARON,  KIMBERLEI R                CHIEF CONTRACT EXPEDITER   \n",
       "3  ABAD JR,  VICENTE M                       CIVIL ENGINEER IV   \n",
       "4    ABASCAL,  REECE E             TRAFFIC CONTROL AIDE-HOURLY   \n",
       "\n",
       "         Department Full or Part-Time Salary or Hourly  Typical Hours  \\\n",
       "0            POLICE                 F           Salary            NaN   \n",
       "1            POLICE                 F           Salary            NaN   \n",
       "2  GENERAL SERVICES                 F           Salary            NaN   \n",
       "3       WATER MGMNT                 F           Salary            NaN   \n",
       "4              OEMC                 P           Hourly           20.0   \n",
       "\n",
       "   Annual Salary  Hourly Rate  \n",
       "0       101442.0          NaN  \n",
       "1        94122.0          NaN  \n",
       "2       101592.0          NaN  \n",
       "3       110064.0          NaN  \n",
       "4            NaN        19.86  "
      ]
     },
     "execution_count": 3,
     "metadata": {},
     "output_type": "execute_result"
    }
   ],
   "source": [
    "# Run this code:\n",
    "salaries = pd.read_csv('../Current_Employee_Names__Salaries__and_Position_Titles.csv')\n",
    "salaries.head()"
   ]
  },
  {
   "cell_type": "markdown",
   "metadata": {},
   "source": [
    "We see from looking at the `head` function that there is quite a bit of missing data. Let's examine how much missing data is in each column. Produce this output in the cell below"
   ]
  },
  {
   "cell_type": "code",
   "execution_count": 4,
   "metadata": {},
   "outputs": [
    {
     "name": "stdout",
     "output_type": "stream",
     "text": [
      "<class 'pandas.core.frame.DataFrame'>\n",
      "RangeIndex: 33183 entries, 0 to 33182\n",
      "Data columns (total 8 columns):\n",
      " #   Column             Non-Null Count  Dtype  \n",
      "---  ------             --------------  -----  \n",
      " 0   Name               33183 non-null  object \n",
      " 1   Job Titles         33183 non-null  object \n",
      " 2   Department         33183 non-null  object \n",
      " 3   Full or Part-Time  33183 non-null  object \n",
      " 4   Salary or Hourly   33183 non-null  object \n",
      " 5   Typical Hours      8022 non-null   float64\n",
      " 6   Annual Salary      25161 non-null  float64\n",
      " 7   Hourly Rate        8022 non-null   float64\n",
      "dtypes: float64(3), object(5)\n",
      "memory usage: 2.0+ MB\n"
     ]
    }
   ],
   "source": [
    "# Your code here:\n",
    "salaries.info()\n"
   ]
  },
  {
   "cell_type": "code",
   "execution_count": 5,
   "metadata": {},
   "outputs": [],
   "source": [
    "# Tenemos muchísimos valores nulos en las columnas Typical Hours y Hourly Rate y una cantidad razonablemente grande también en la columna Annual Salary"
   ]
  },
  {
   "cell_type": "markdown",
   "metadata": {},
   "source": [
    "Let's also look at the count of hourly vs. salaried employees. Write the code in the cell below"
   ]
  },
  {
   "cell_type": "code",
   "execution_count": 6,
   "metadata": {},
   "outputs": [
    {
     "data": {
      "text/plain": [
       "Salary or Hourly\n",
       "Salary    25161\n",
       "Hourly     8022\n",
       "Name: count, dtype: int64"
      ]
     },
     "execution_count": 6,
     "metadata": {},
     "output_type": "execute_result"
    }
   ],
   "source": [
    "# Your code here:\n",
    "salaries['Salary or Hourly'].value_counts()\n"
   ]
  },
  {
   "cell_type": "code",
   "execution_count": null,
   "metadata": {},
   "outputs": [],
   "source": [
    "# Coincide exactamente con los valores nulos que tenemos -> así que no hay problema"
   ]
  },
  {
   "cell_type": "markdown",
   "metadata": {},
   "source": [
    "What this information indicates is that the table contains information about two types of employees - salaried and hourly. Some columns apply only to one type of employee while other columns only apply to another kind. This is why there are so many missing values. Therefore, we will not do anything to handle the missing values."
   ]
  },
  {
   "cell_type": "markdown",
   "metadata": {},
   "source": [
    "There are different departments in the city. List all departments and the count of employees in each department."
   ]
  },
  {
   "cell_type": "code",
   "execution_count": 7,
   "metadata": {},
   "outputs": [
    {
     "data": {
      "text/plain": [
       "array(['POLICE', 'GENERAL SERVICES', 'WATER MGMNT', 'OEMC',\n",
       "       'CITY COUNCIL', 'AVIATION', 'STREETS & SAN', 'FIRE',\n",
       "       'FAMILY & SUPPORT', 'PUBLIC LIBRARY', 'TRANSPORTN',\n",
       "       \"MAYOR'S OFFICE\", 'HEALTH', 'BUSINESS AFFAIRS', 'LAW', 'FINANCE',\n",
       "       'CULTURAL AFFAIRS', 'COMMUNITY DEVELOPMENT', 'PROCUREMENT',\n",
       "       'BUILDINGS', 'ANIMAL CONTRL', 'CITY CLERK', 'BOARD OF ELECTION',\n",
       "       'DISABILITIES', 'HUMAN RESOURCES', 'DoIT', 'BUDGET & MGMT',\n",
       "       'TREASURER', 'INSPECTOR GEN', 'HUMAN RELATIONS', 'COPA',\n",
       "       'BOARD OF ETHICS', 'POLICE BOARD', 'ADMIN HEARNG',\n",
       "       'LICENSE APPL COMM'], dtype=object)"
      ]
     },
     "execution_count": 7,
     "metadata": {},
     "output_type": "execute_result"
    }
   ],
   "source": [
    "salaries.Department.unique()"
   ]
  },
  {
   "cell_type": "code",
   "execution_count": 8,
   "metadata": {},
   "outputs": [
    {
     "data": {
      "text/plain": [
       "Department\n",
       "POLICE                   13414\n",
       "FIRE                      4641\n",
       "STREETS & SAN             2198\n",
       "OEMC                      2102\n",
       "WATER MGMNT               1879\n",
       "AVIATION                  1629\n",
       "TRANSPORTN                1140\n",
       "PUBLIC LIBRARY            1015\n",
       "GENERAL SERVICES           980\n",
       "FAMILY & SUPPORT           615\n",
       "FINANCE                    560\n",
       "HEALTH                     488\n",
       "CITY COUNCIL               411\n",
       "LAW                        407\n",
       "BUILDINGS                  269\n",
       "COMMUNITY DEVELOPMENT      207\n",
       "BUSINESS AFFAIRS           171\n",
       "COPA                       116\n",
       "BOARD OF ELECTION          107\n",
       "DoIT                        99\n",
       "PROCUREMENT                 92\n",
       "INSPECTOR GEN               87\n",
       "MAYOR'S OFFICE              85\n",
       "CITY CLERK                  84\n",
       "ANIMAL CONTRL               81\n",
       "HUMAN RESOURCES             79\n",
       "CULTURAL AFFAIRS            65\n",
       "BUDGET & MGMT               46\n",
       "ADMIN HEARNG                39\n",
       "DISABILITIES                28\n",
       "TREASURER                   22\n",
       "HUMAN RELATIONS             16\n",
       "BOARD OF ETHICS              8\n",
       "POLICE BOARD                 2\n",
       "LICENSE APPL COMM            1\n",
       "Name: count, dtype: int64"
      ]
     },
     "execution_count": 8,
     "metadata": {},
     "output_type": "execute_result"
    }
   ],
   "source": [
    "# Your code here:\n",
    "salaries.Department.value_counts()\n"
   ]
  },
  {
   "cell_type": "markdown",
   "metadata": {},
   "source": [
    "# Challenge 2 - Hypothesis Tests\n",
    "\n",
    "In this section of the lab, we will test whether the hourly wage of all hourly workers is significantly different from $30/hr. Import the correct one sample test function from scipy and perform the hypothesis test for a 95% two sided confidence interval."
   ]
  },
  {
   "cell_type": "code",
   "execution_count": 7,
   "metadata": {},
   "outputs": [],
   "source": [
    "# Por lo tanto la H0 es que el hourly wage es $30/hr. Vamos a utilizar el estadístico Z test.\n",
    "import pylab as plt\n",
    "from scipy.stats import norm\n",
    "from statsmodels.stats import weightstats as w\n",
    "from scipy.stats import ttest_1samp"
   ]
  },
  {
   "cell_type": "code",
   "execution_count": 10,
   "metadata": {},
   "outputs": [
    {
     "data": {
      "text/html": [
       "<div>\n",
       "<style scoped>\n",
       "    .dataframe tbody tr th:only-of-type {\n",
       "        vertical-align: middle;\n",
       "    }\n",
       "\n",
       "    .dataframe tbody tr th {\n",
       "        vertical-align: top;\n",
       "    }\n",
       "\n",
       "    .dataframe thead th {\n",
       "        text-align: right;\n",
       "    }\n",
       "</style>\n",
       "<table border=\"1\" class=\"dataframe\">\n",
       "  <thead>\n",
       "    <tr style=\"text-align: right;\">\n",
       "      <th></th>\n",
       "      <th>count</th>\n",
       "      <th>mean</th>\n",
       "      <th>std</th>\n",
       "      <th>min</th>\n",
       "      <th>25%</th>\n",
       "      <th>50%</th>\n",
       "      <th>75%</th>\n",
       "      <th>max</th>\n",
       "    </tr>\n",
       "  </thead>\n",
       "  <tbody>\n",
       "    <tr>\n",
       "      <th>Typical Hours</th>\n",
       "      <td>8022.0</td>\n",
       "      <td>34.507604</td>\n",
       "      <td>9.252077</td>\n",
       "      <td>10.00</td>\n",
       "      <td>20.0</td>\n",
       "      <td>40.0</td>\n",
       "      <td>40.0</td>\n",
       "      <td>40.0</td>\n",
       "    </tr>\n",
       "    <tr>\n",
       "      <th>Annual Salary</th>\n",
       "      <td>25161.0</td>\n",
       "      <td>86786.999790</td>\n",
       "      <td>21041.354602</td>\n",
       "      <td>7200.00</td>\n",
       "      <td>76266.0</td>\n",
       "      <td>90024.0</td>\n",
       "      <td>96060.0</td>\n",
       "      <td>300000.0</td>\n",
       "    </tr>\n",
       "    <tr>\n",
       "      <th>Hourly Rate</th>\n",
       "      <td>8022.0</td>\n",
       "      <td>32.788558</td>\n",
       "      <td>12.112573</td>\n",
       "      <td>2.65</td>\n",
       "      <td>21.2</td>\n",
       "      <td>35.6</td>\n",
       "      <td>40.2</td>\n",
       "      <td>109.0</td>\n",
       "    </tr>\n",
       "  </tbody>\n",
       "</table>\n",
       "</div>"
      ],
      "text/plain": [
       "                 count          mean           std      min      25%      50%  \\\n",
       "Typical Hours   8022.0     34.507604      9.252077    10.00     20.0     40.0   \n",
       "Annual Salary  25161.0  86786.999790  21041.354602  7200.00  76266.0  90024.0   \n",
       "Hourly Rate     8022.0     32.788558     12.112573     2.65     21.2     35.6   \n",
       "\n",
       "                   75%       max  \n",
       "Typical Hours     40.0      40.0  \n",
       "Annual Salary  96060.0  300000.0  \n",
       "Hourly Rate       40.2     109.0  "
      ]
     },
     "execution_count": 10,
     "metadata": {},
     "output_type": "execute_result"
    }
   ],
   "source": [
    "salaries.describe().T"
   ]
  },
  {
   "cell_type": "code",
   "execution_count": 11,
   "metadata": {},
   "outputs": [],
   "source": [
    "#help(w)"
   ]
  },
  {
   "cell_type": "code",
   "execution_count": 12,
   "metadata": {},
   "outputs": [],
   "source": [
    "# Nos piden un hypothesis test al 95% y con un two sided interval -> O mu = 30 | mu != 30\n",
    "\n",
    "# Sabemos que la bbdd tiene 33183 entradas -> 33183 asalariados -> n=33183 \n",
    "empleados = 33183 # Con una muestra tan grande -> podemos usar z test\n",
    "mu = 30 # media poblacional que vamos a comprobar"
   ]
  },
  {
   "cell_type": "code",
   "execution_count": 13,
   "metadata": {},
   "outputs": [
    {
     "data": {
      "text/plain": [
       "(20.6198057854942, 1.8228873859286195e-94)"
      ]
     },
     "execution_count": 13,
     "metadata": {},
     "output_type": "execute_result"
    }
   ],
   "source": [
    "# Your code here:\n",
    "z_test = w.ztest(salaries['Hourly Rate'].dropna(), value=mu, alternative='two-sided')\n",
    "z_test"
   ]
  },
  {
   "cell_type": "code",
   "execution_count": 27,
   "metadata": {},
   "outputs": [
    {
     "data": {
      "text/plain": [
       "TtestResult(statistic=20.6198057854942, pvalue=4.3230240486229894e-92, df=8021)"
      ]
     },
     "execution_count": 27,
     "metadata": {},
     "output_type": "execute_result"
    }
   ],
   "source": [
    "# Voy a probar a hacerlo con el t test\n",
    "t_test = ttest_1samp(salaries['Hourly Rate'].dropna(), 30, alternative='two-sided')\n",
    "t_test"
   ]
  },
  {
   "cell_type": "code",
   "execution_count": 28,
   "metadata": {},
   "outputs": [
    {
     "data": {
      "text/plain": [
       "\"\\nReturns\\ntstat : float\\n    test statistic\\npvalue : float\\n    pvalue of the t-test\\n\\n\\n'two-sided': H1: difference in means not equal to value (default)\\n'larger' :   H1: difference in means larger than value\\n'smaller' :  H1: difference in means smaller than value\\n\""
      ]
     },
     "execution_count": 28,
     "metadata": {},
     "output_type": "execute_result"
    }
   ],
   "source": [
    "#help(w.ztest)\n",
    "\n",
    "'''\n",
    "Returns\n",
    "tstat : float\n",
    "    test statistic\n",
    "pvalue : float\n",
    "    pvalue of the t-test\n",
    "\n",
    "\n",
    "'two-sided': H1: difference in means not equal to value (default)\n",
    "'larger' :   H1: difference in means larger than value\n",
    "'smaller' :  H1: difference in means smaller than value\n",
    "'''\n"
   ]
  },
  {
   "cell_type": "code",
   "execution_count": 29,
   "metadata": {},
   "outputs": [],
   "source": [
    "# El ztest nos devuelve en primer lugar el estadístico y en 2º el pvalue. \n",
    "\n",
    "# Al ser el pvalue<=0,5 podemos rechazar la hipótesis nula y afirmar que el hourly wage es diferente de $30/hr\n",
    "\n",
    "# La manera correcta de decirlo sería: hay evidencia suficiente para sugerir que la diferencia observada es estadísticamente significativa :)"
   ]
  },
  {
   "cell_type": "code",
   "execution_count": 30,
   "metadata": {},
   "outputs": [
    {
     "data": {
      "text/plain": [
       "'\\nEn resumen, el Z-test es más apropiado cuando la desviación estándar poblacional es conocida, mientras que el t-test \\nse utiliza cuando la desviación estándar poblacional no es conocida y, especialmente, cuando el tamaño de la muestra \\nes pequeño. El t-test es más robusto en situaciones donde la variabilidad de la muestra debe ser tenida en cuenta \\ndebido al tamaño limitado de la muestra.\\n\\n'"
      ]
     },
     "execution_count": 30,
     "metadata": {},
     "output_type": "execute_result"
    }
   ],
   "source": [
    "'''\n",
    "En resumen, el Z-test es más apropiado cuando la desviación estándar poblacional es conocida, mientras que el t-test \n",
    "se utiliza cuando la desviación estándar poblacional no es conocida y, especialmente, cuando el tamaño de la muestra \n",
    "es pequeño. El t-test es más robusto en situaciones donde la variabilidad de la muestra debe ser tenida en cuenta \n",
    "debido al tamaño limitado de la muestra.\n",
    "\n",
    "'''"
   ]
  },
  {
   "cell_type": "markdown",
   "metadata": {},
   "source": [
    "We are also curious about salaries in the police force. The chief of police in Chicago claimed in a press briefing that salaries this year are higher than last year's mean of $86000/year a year for all salaried employees. Test this one sided hypothesis using a 95% confidence interval.\n",
    "\n",
    "Hint: A one tailed test has a p-value that is half of the two tailed p-value. If our hypothesis is greater than, then to reject, the test statistic must also be positive."
   ]
  },
  {
   "cell_type": "code",
   "execution_count": 31,
   "metadata": {},
   "outputs": [
    {
     "data": {
      "text/plain": [
       "0     101442.0\n",
       "1      94122.0\n",
       "9      93354.0\n",
       "11     84054.0\n",
       "12     87006.0\n",
       "Name: Annual Salary, dtype: float64"
      ]
     },
     "execution_count": 31,
     "metadata": {},
     "output_type": "execute_result"
    }
   ],
   "source": [
    "# En este caso la hipótesis nula es que el salario medio anual es mayor al del año pasado -> mu > $86.000 -> Hipótesis alternativa es que ese salario anual es menor\n",
    "\n",
    "# Esta vez nos piden un intervalo de confianza del 95%, one sided.\n",
    "\n",
    "# Vamos a crear una columna con unicamente los salarios de los polis:\n",
    "\n",
    "polis = salaries['Annual Salary'][salaries.Department == 'POLICE']\n",
    "polis.head()"
   ]
  },
  {
   "cell_type": "code",
   "execution_count": 32,
   "metadata": {},
   "outputs": [],
   "source": [
    "mu = 86000"
   ]
  },
  {
   "cell_type": "code",
   "execution_count": 33,
   "metadata": {},
   "outputs": [
    {
     "data": {
      "text/plain": [
       "(3.081997005712994, 0.9989719154712452)"
      ]
     },
     "execution_count": 33,
     "metadata": {},
     "output_type": "execute_result"
    }
   ],
   "source": [
    "z_test = w.ztest(polis.dropna(), value=mu, alternative='smaller')\n",
    "z_test"
   ]
  },
  {
   "cell_type": "code",
   "execution_count": 34,
   "metadata": {},
   "outputs": [],
   "source": [
    "# Recordamos que el primer valor es el estadístico y el segundo el pvalor -> Pvalue=0.9989719154712452\n",
    "\n",
    "# Al ser pvalor >= 0,05 no tenemos evidencia suficiente como para afirmar que la Hipótesis nula es incorrecta -> Creemos al poli"
   ]
  },
  {
   "cell_type": "code",
   "execution_count": 35,
   "metadata": {},
   "outputs": [],
   "source": [
    "# Un momento, he hecho este apartado con Z test por ser la muestra muy grande. Según la teoría, el estadístico z test se utiliza cuando conoces la desviación estandar poblacional\n",
    "# o cuando la muestra es muy grande. En este caso no conocíamos la desv. est. poblacional (sí la muestral) pero es válido el test por el gran tamaño de la muestra.\n",
    "# Vamos a hacer el mismo cálculo pero con el estadístico t:"
   ]
  },
  {
   "cell_type": "code",
   "execution_count": 37,
   "metadata": {},
   "outputs": [],
   "source": [
    "#help(ttest_1samp)"
   ]
  },
  {
   "cell_type": "code",
   "execution_count": 38,
   "metadata": {},
   "outputs": [
    {
     "data": {
      "text/plain": [
       "TtestResult(statistic=3.081997005712994, pvalue=0.9989698298224517, df=13403)"
      ]
     },
     "execution_count": 38,
     "metadata": {},
     "output_type": "execute_result"
    }
   ],
   "source": [
    "t_test = ttest_1samp(polis.dropna(), mu, alternative='less')\n",
    "t_test"
   ]
  },
  {
   "cell_type": "code",
   "execution_count": 39,
   "metadata": {},
   "outputs": [],
   "source": [
    "# Obtenemos un pvalor=0.99896 (muy parecido por cierto al del z test), pvalor>0.05 por lo que no podemos rechazar la Hipótesis nula -> poli tenía razón\n",
    "\n",
    "# mismo resultado :)"
   ]
  },
  {
   "cell_type": "markdown",
   "metadata": {},
   "source": [
    "Using the `crosstab` function, find the department that has the most hourly workers. "
   ]
  },
  {
   "cell_type": "code",
   "execution_count": 49,
   "metadata": {},
   "outputs": [
    {
     "data": {
      "text/html": [
       "<div>\n",
       "<style scoped>\n",
       "    .dataframe tbody tr th:only-of-type {\n",
       "        vertical-align: middle;\n",
       "    }\n",
       "\n",
       "    .dataframe tbody tr th {\n",
       "        vertical-align: top;\n",
       "    }\n",
       "\n",
       "    .dataframe thead th {\n",
       "        text-align: right;\n",
       "    }\n",
       "</style>\n",
       "<table border=\"1\" class=\"dataframe\">\n",
       "  <thead>\n",
       "    <tr style=\"text-align: right;\">\n",
       "      <th>col_0</th>\n",
       "      <th>8022</th>\n",
       "    </tr>\n",
       "    <tr>\n",
       "      <th>Department</th>\n",
       "      <th></th>\n",
       "    </tr>\n",
       "  </thead>\n",
       "  <tbody>\n",
       "    <tr>\n",
       "      <th>ANIMAL CONTRL</th>\n",
       "      <td>19</td>\n",
       "    </tr>\n",
       "    <tr>\n",
       "      <th>AVIATION</th>\n",
       "      <td>1082</td>\n",
       "    </tr>\n",
       "    <tr>\n",
       "      <th>BUDGET &amp; MGMT</th>\n",
       "      <td>2</td>\n",
       "    </tr>\n",
       "    <tr>\n",
       "      <th>BUSINESS AFFAIRS</th>\n",
       "      <td>7</td>\n",
       "    </tr>\n",
       "    <tr>\n",
       "      <th>CITY COUNCIL</th>\n",
       "      <td>64</td>\n",
       "    </tr>\n",
       "    <tr>\n",
       "      <th>COMMUNITY DEVELOPMENT</th>\n",
       "      <td>4</td>\n",
       "    </tr>\n",
       "    <tr>\n",
       "      <th>CULTURAL AFFAIRS</th>\n",
       "      <td>7</td>\n",
       "    </tr>\n",
       "    <tr>\n",
       "      <th>FAMILY &amp; SUPPORT</th>\n",
       "      <td>287</td>\n",
       "    </tr>\n",
       "    <tr>\n",
       "      <th>FINANCE</th>\n",
       "      <td>44</td>\n",
       "    </tr>\n",
       "    <tr>\n",
       "      <th>FIRE</th>\n",
       "      <td>2</td>\n",
       "    </tr>\n",
       "    <tr>\n",
       "      <th>GENERAL SERVICES</th>\n",
       "      <td>765</td>\n",
       "    </tr>\n",
       "    <tr>\n",
       "      <th>HEALTH</th>\n",
       "      <td>3</td>\n",
       "    </tr>\n",
       "    <tr>\n",
       "      <th>HUMAN RESOURCES</th>\n",
       "      <td>4</td>\n",
       "    </tr>\n",
       "    <tr>\n",
       "      <th>LAW</th>\n",
       "      <td>40</td>\n",
       "    </tr>\n",
       "    <tr>\n",
       "      <th>MAYOR'S OFFICE</th>\n",
       "      <td>8</td>\n",
       "    </tr>\n",
       "    <tr>\n",
       "      <th>OEMC</th>\n",
       "      <td>1273</td>\n",
       "    </tr>\n",
       "    <tr>\n",
       "      <th>POLICE</th>\n",
       "      <td>10</td>\n",
       "    </tr>\n",
       "    <tr>\n",
       "      <th>PROCUREMENT</th>\n",
       "      <td>2</td>\n",
       "    </tr>\n",
       "    <tr>\n",
       "      <th>PUBLIC LIBRARY</th>\n",
       "      <td>299</td>\n",
       "    </tr>\n",
       "    <tr>\n",
       "      <th>STREETS &amp; SAN</th>\n",
       "      <td>1862</td>\n",
       "    </tr>\n",
       "    <tr>\n",
       "      <th>TRANSPORTN</th>\n",
       "      <td>725</td>\n",
       "    </tr>\n",
       "    <tr>\n",
       "      <th>WATER MGMNT</th>\n",
       "      <td>1513</td>\n",
       "    </tr>\n",
       "  </tbody>\n",
       "</table>\n",
       "</div>"
      ],
      "text/plain": [
       "col_0                  8022\n",
       "Department                 \n",
       "ANIMAL CONTRL            19\n",
       "AVIATION               1082\n",
       "BUDGET & MGMT             2\n",
       "BUSINESS AFFAIRS          7\n",
       "CITY COUNCIL             64\n",
       "COMMUNITY DEVELOPMENT     4\n",
       "CULTURAL AFFAIRS          7\n",
       "FAMILY & SUPPORT        287\n",
       "FINANCE                  44\n",
       "FIRE                      2\n",
       "GENERAL SERVICES        765\n",
       "HEALTH                    3\n",
       "HUMAN RESOURCES           4\n",
       "LAW                      40\n",
       "MAYOR'S OFFICE            8\n",
       "OEMC                   1273\n",
       "POLICE                   10\n",
       "PROCUREMENT               2\n",
       "PUBLIC LIBRARY          299\n",
       "STREETS & SAN          1862\n",
       "TRANSPORTN              725\n",
       "WATER MGMNT            1513"
      ]
     },
     "execution_count": 49,
     "metadata": {},
     "output_type": "execute_result"
    }
   ],
   "source": [
    "cross = pd.crosstab(salaries.Department[salaries['Salary or Hourly'] == 'Hourly'], salaries.Name[salaries['Salary or Hourly'] == 'Hourly'].count())\n",
    "cross"
   ]
  },
  {
   "cell_type": "code",
   "execution_count": 51,
   "metadata": {},
   "outputs": [],
   "source": [
    "# El departamento con más horas trabajadas es 'STREETS & SAN'"
   ]
  },
  {
   "cell_type": "markdown",
   "metadata": {},
   "source": [
    "The workers from the department with the most hourly workers have complained that their hourly wage is less than $35/hour. Using a one sample t-test, test this one-sided hypothesis at the 95% confidence level."
   ]
  },
  {
   "cell_type": "code",
   "execution_count": null,
   "metadata": {},
   "outputs": [],
   "source": [
    "# La hipótesis nula es que el la media del hourly wage es mayor a $35/hour, hipótesis alternativa es la queja de los empleados que es menor"
   ]
  },
  {
   "cell_type": "code",
   "execution_count": 53,
   "metadata": {},
   "outputs": [
    {
     "data": {
      "text/plain": [
       "7      35.60\n",
       "21     21.43\n",
       "24     35.60\n",
       "36     36.21\n",
       "39     35.60\n",
       "61       NaN\n",
       "62     36.13\n",
       "90     28.48\n",
       "106    36.21\n",
       "111    36.21\n",
       "Name: Hourly Rate, dtype: float64"
      ]
     },
     "execution_count": 53,
     "metadata": {},
     "output_type": "execute_result"
    }
   ],
   "source": [
    "# Debemos trabajar únicamente con el hourly rate del departamento 'STREETS & SAN'\n",
    "streets = salaries['Hourly Rate'][salaries.Department == 'STREETS & SAN']\n",
    "streets[:10]"
   ]
  },
  {
   "cell_type": "code",
   "execution_count": 54,
   "metadata": {},
   "outputs": [
    {
     "data": {
      "text/plain": [
       "TtestResult(statistic=-9.567447887848152, pvalue=1.6689265282353859e-21, df=1861)"
      ]
     },
     "execution_count": 54,
     "metadata": {},
     "output_type": "execute_result"
    }
   ],
   "source": [
    "t_test = ttest_1samp(streets.dropna(), 35, alternative='less')\n",
    "t_test"
   ]
  },
  {
   "cell_type": "code",
   "execution_count": 55,
   "metadata": {},
   "outputs": [],
   "source": [
    "# Como el p valor es menor que 0.05 podemos rechazar la hipótesis nula y darles la razón a los empleados quejicas"
   ]
  },
  {
   "cell_type": "markdown",
   "metadata": {},
   "source": [
    "# Challenge 3 - Constructing Confidence Intervals\n",
    "\n",
    "While testing our hypothesis is a great way to gather empirical evidence for accepting or rejecting the hypothesis, another way to gather evidence is by creating a confidence interval. A confidence interval gives us information about the true mean of the population. So for a 95% confidence interval, we are 95% sure that the mean of the population is within the confidence interval. \n",
    ").\n",
    "\n",
    "To read more about confidence intervals, click [here](https://en.wikipedia.org/wiki/Confidence_interval).\n",
    "\n",
    "\n",
    "In the cell below, we will construct a 95% confidence interval for the mean hourly wage of all hourly workers. \n",
    "\n",
    "The confidence interval is computed in SciPy using the `t.interval` function. You can read more about this function [here](https://docs.scipy.org/doc/scipy-0.14.0/reference/generated/scipy.stats.t.html).\n",
    "\n",
    "To compute the confidence interval of the hourly wage, use the 0.95 for the confidence level, number of rows - 1 for degrees of freedom, the mean of the sample for the location parameter and the standard error for the scale. The standard error can be computed using [this](https://docs.scipy.org/doc/scipy/reference/generated/scipy.stats.sem.html) function in SciPy."
   ]
  },
  {
   "cell_type": "code",
   "execution_count": 62,
   "metadata": {},
   "outputs": [],
   "source": [
    "from scipy.stats import sem\n",
    "from scipy.stats import t"
   ]
  },
  {
   "cell_type": "code",
   "execution_count": 60,
   "metadata": {},
   "outputs": [],
   "source": [
    "rows, cols = salaries.shape\n",
    "\n",
    "dof = rows -1"
   ]
  },
  {
   "cell_type": "code",
   "execution_count": 65,
   "metadata": {},
   "outputs": [
    {
     "data": {
      "text/plain": [
       "(32.52348867934135, 33.05362675321913)"
      ]
     },
     "execution_count": 65,
     "metadata": {},
     "output_type": "execute_result"
    }
   ],
   "source": [
    "t.interval(0.95,                                            # alfa\n",
    "           dof,                                             # grados de libertad\n",
    "           loc=salaries['Hourly Rate'].dropna().mean(),     # media\n",
    "           scale=sem(salaries['Hourly Rate'].dropna()))     # error standard"
   ]
  },
  {
   "cell_type": "markdown",
   "metadata": {},
   "source": [
    "Now construct the 95% confidence interval for all salaried employeed in the police in the cell below."
   ]
  },
  {
   "cell_type": "code",
   "execution_count": 67,
   "metadata": {},
   "outputs": [
    {
     "data": {
      "text/plain": [
       "(86177.07296831945, 86795.75603794733)"
      ]
     },
     "execution_count": 67,
     "metadata": {},
     "output_type": "execute_result"
    }
   ],
   "source": [
    "t.interval(0.95,                                            # alfa\n",
    "           dof,                                             # grados de libertad\n",
    "           loc=polis.dropna().mean(),     # media\n",
    "           scale=sem(polis.dropna()))     # error standard"
   ]
  },
  {
   "cell_type": "markdown",
   "metadata": {},
   "source": [
    "# Challenge 4 - Hypothesis Tests of Proportions\n",
    "\n",
    "Another type of one sample test is a hypothesis test of proportions. In this test, we examine whether the proportion of a group in our sample is significantly different than a fraction. \n",
    "\n",
    "You can read more about one sample proportion tests [here](http://sphweb.bumc.bu.edu/otlt/MPH-Modules/BS/SAS/SAS6-CategoricalData/SAS6-CategoricalData2.html).\n",
    "\n",
    "In the cell below, use the `proportions_ztest` function from `statsmodels` to perform a hypothesis test that will determine whether the number of hourly workers in the City of Chicago is significantly different from 25% at the 95% confidence level."
   ]
  },
  {
   "cell_type": "code",
   "execution_count": 68,
   "metadata": {},
   "outputs": [],
   "source": [
    "from statsmodels.stats.proportion import proportions_ztest"
   ]
  },
  {
   "cell_type": "code",
   "execution_count": 70,
   "metadata": {},
   "outputs": [
    {
     "data": {
      "text/plain": [
       "(array([-3.50999642]), array([0.00044811]))"
      ]
     },
     "execution_count": 70,
     "metadata": {},
     "output_type": "execute_result"
    }
   ],
   "source": [
    "# Your code here:\n",
    "z_score, p_value= proportions_ztest(salaries['Salary or Hourly'][salaries['Salary or Hourly'] == 'Hourly'].value_counts(),     # 25 elementos de a, \n",
    "                                    rows,           # numero total de elementos\n",
    "                                    0.25            # proporcion\n",
    "                                   ) \n",
    "\n",
    "z_score, p_value\n"
   ]
  },
  {
   "cell_type": "code",
   "execution_count": 71,
   "metadata": {},
   "outputs": [],
   "source": [
    "# Dado que obtenenemos un pvalor < 0.05 podemos rechazar la Hipótesis nula (H0=25% | H1!=25%) "
   ]
  },
  {
   "cell_type": "code",
   "execution_count": 72,
   "metadata": {},
   "outputs": [],
   "source": [
    "# Coooool"
   ]
  },
  {
   "cell_type": "code",
   "execution_count": null,
   "metadata": {},
   "outputs": [],
   "source": []
  }
 ],
 "metadata": {
  "kernelspec": {
   "display_name": "Python 3",
   "language": "python",
   "name": "python3"
  },
  "language_info": {
   "codemirror_mode": {
    "name": "ipython",
    "version": 3
   },
   "file_extension": ".py",
   "mimetype": "text/x-python",
   "name": "python",
   "nbconvert_exporter": "python",
   "pygments_lexer": "ipython3",
   "version": "3.10.13"
  }
 },
 "nbformat": 4,
 "nbformat_minor": 2
}
